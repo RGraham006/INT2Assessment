{
 "cells": [
  {
   "attachments": {},
   "cell_type": "markdown",
   "metadata": {},
   "source": [
    "Imports tensorflow"
   ]
  },
  {
   "cell_type": "code",
   "execution_count": 1,
   "metadata": {},
   "outputs": [],
   "source": [
    "import tensorflow as tf"
   ]
  },
  {
   "attachments": {},
   "cell_type": "markdown",
   "metadata": {},
   "source": [
    "Imports the mnist dataset. The mnist dataset is a dataset of 28x28 pixel black and white images. The colour of a pixel is stored as a value between 0 (white) and 255 (black)"
   ]
  },
  {
   "cell_type": "code",
   "execution_count": 2,
   "metadata": {},
   "outputs": [],
   "source": [
    "mnist = tf.keras.datasets.mnist\n",
    "\n",
    "#loads the data\n",
    "(x_train, y_train), (x_test, y_test) = mnist.load_data()\n",
    "#x_train and x_test hold the images, y_train and y_test hold the labels\n",
    "#Normalizes the pixel data into a value between 0 and 1 by dividing by 255\n",
    "x_train, x_test = x_train/ 255.0, x_test/255.0"
   ]
  },
  {
   "attachments": {},
   "cell_type": "markdown",
   "metadata": {},
   "source": [
    "Creates a neural network with 1 input layer, 2 hidden layers and an output layer"
   ]
  },
  {
   "cell_type": "code",
   "execution_count": null,
   "metadata": {},
   "outputs": [],
   "source": [
    "model = tf.keras.models.Sequential([ #the layers of the neural network are stacked on each other in sequence\n",
    "  tf.keras.layers.Flatten(input_shape=(28, 28)), #Flattens the 28x28 image into a 1d array of 784 pixels. This is used as the input layer for the network\n",
    "  tf.keras.layers.Dense(128, activation='relu'), #Creates a dense layer with 128 neurons. Dense means that every neuron in this layer is connected to every neuron of the previous layer. Uses the ReLU activation function\n",
    "  tf.keras.layers.Dropout(0.2), #Creates a dropout layer that randomly sets 20% of the inputs to 0. This is done to prevent overfitting\n",
    "  tf.keras.layers.Dense(10) #Creates a dense output layer with 10 neurons. This is to represent every number from 0-9 that can appear in the mnist dataset\n",
    "])"
   ]
  },
  {
   "attachments": {},
   "cell_type": "markdown",
   "metadata": {},
   "source": [
    "Overfitting is an issue where networks to closely learn the training data and struggle to generalise. Dropout layers aim to fix this by randomly making some of the data in trainign redundant. This prevents the network from relying on the presence of specific neurons/pixels being present to determine its result. Dropout layers are only active during training."
   ]
  },
  {
   "attachments": {},
   "cell_type": "markdown",
   "metadata": {},
   "source": [
    "Gets the models untrained predictions about the first image in the dataset"
   ]
  },
  {
   "cell_type": "code",
   "execution_count": null,
   "metadata": {},
   "outputs": [
    {
     "data": {
      "text/plain": [
       "array([[ 0.5160889 , -0.3795942 ,  0.19049013, -0.02380677,  0.15951344,\n",
       "        -0.16106188, -0.0124263 , -0.33838674,  0.6609732 ,  0.1384132 ]],\n",
       "      dtype=float32)"
      ]
     },
     "execution_count": 5,
     "metadata": {},
     "output_type": "execute_result"
    }
   ],
   "source": [
    "predictions = model(x_train[:1]).numpy()\n",
    "predictions"
   ]
  },
  {
   "attachments": {},
   "cell_type": "markdown",
   "metadata": {},
   "source": [
    "Converts the models untrained prediction about the first image into a probability distribution about what number it thinks it is"
   ]
  },
  {
   "cell_type": "code",
   "execution_count": null,
   "metadata": {},
   "outputs": [
    {
     "data": {
      "text/plain": [
       "array([[0.14754249, 0.06024582, 0.10653967, 0.08598909, 0.10329002,\n",
       "        0.07496081, 0.08697327, 0.06278025, 0.17054522, 0.10113341]],\n",
       "      dtype=float32)"
      ]
     },
     "execution_count": 6,
     "metadata": {},
     "output_type": "execute_result"
    }
   ],
   "source": [
    "tf.nn.softmax(predictions).numpy()"
   ]
  },
  {
   "attachments": {},
   "cell_type": "markdown",
   "metadata": {},
   "source": [
    "A loss function, typically used for multiclass classification problems. from_logits is true because we are using raw scores instead of probabilities due to the lack of an activation function in the output layer. from_logits = True applies the above softmax function to the output layer to produce a probability distribution"
   ]
  },
  {
   "cell_type": "code",
   "execution_count": null,
   "metadata": {},
   "outputs": [],
   "source": [
    "loss_fn = tf.keras.losses.SparseCategoricalCrossentropy(from_logits=True)"
   ]
  },
  {
   "cell_type": "code",
   "execution_count": null,
   "metadata": {},
   "outputs": [
    {
     "data": {
      "text/plain": [
       "2.5907898"
      ]
     },
     "execution_count": 8,
     "metadata": {},
     "output_type": "execute_result"
    }
   ],
   "source": [
    "loss_fn(y_train[:1], predictions).numpy()"
   ]
  },
  {
   "attachments": {},
   "cell_type": "markdown",
   "metadata": {},
   "source": [
    "Readies the model for training with a specified optimizer, loss function and performance metric"
   ]
  },
  {
   "cell_type": "code",
   "execution_count": null,
   "metadata": {},
   "outputs": [],
   "source": [
    "model.compile(optimizer='adam', #popular optimization algorithm for gradient based ML\n",
    "              loss=loss_fn,\n",
    "              metrics=['accuracy']) #Measures the proportion of correctly classified images"
   ]
  },
  {
   "cell_type": "code",
   "execution_count": null,
   "metadata": {},
   "outputs": [
    {
     "name": "stdout",
     "output_type": "stream",
     "text": [
      "Epoch 1/5\n",
      "1875/1875 [==============================] - 2s 878us/step - loss: 0.2955 - accuracy: 0.9142\n",
      "Epoch 2/5\n",
      "1875/1875 [==============================] - 2s 864us/step - loss: 0.1419 - accuracy: 0.9578\n",
      "Epoch 3/5\n",
      "1875/1875 [==============================] - 2s 848us/step - loss: 0.1075 - accuracy: 0.9683\n",
      "Epoch 4/5\n",
      "1875/1875 [==============================] - 2s 852us/step - loss: 0.0882 - accuracy: 0.9726\n",
      "Epoch 5/5\n",
      "1875/1875 [==============================] - 2s 849us/step - loss: 0.0738 - accuracy: 0.9767\n"
     ]
    },
    {
     "data": {
      "text/plain": [
       "<keras.callbacks.History at 0x14e8aa10700>"
      ]
     },
     "execution_count": 10,
     "metadata": {},
     "output_type": "execute_result"
    }
   ],
   "source": [
    "model.fit(te, y_train, batch_size=32, epochs=5) "
   ]
  },
  {
   "cell_type": "code",
   "execution_count": null,
   "metadata": {},
   "outputs": [
    {
     "name": "stdout",
     "output_type": "stream",
     "text": [
      "313/313 [==============================] - 0s 750us/step - loss: 0.0692 - accuracy: 0.9792\n"
     ]
    },
    {
     "data": {
      "text/plain": [
       "[0.06924641877412796, 0.979200005531311]"
      ]
     },
     "execution_count": 11,
     "metadata": {},
     "output_type": "execute_result"
    }
   ],
   "source": [
    "model.evaluate(x_test, y_test, verbose=True)"
   ]
  },
  {
   "cell_type": "code",
   "execution_count": null,
   "metadata": {},
   "outputs": [
    {
     "data": {
      "text/plain": [
       "<tf.Tensor: shape=(5, 10), dtype=float32, numpy=\n",
       "array([[1.39850909e-09, 1.89748484e-09, 4.68972075e-06, 1.20537712e-04,\n",
       "        1.45180742e-10, 2.78423951e-09, 4.00607119e-13, 9.99870539e-01,\n",
       "        4.10580839e-07, 3.83124279e-06],\n",
       "       [2.46082266e-09, 5.57730964e-05, 9.99939919e-01, 1.25835925e-06,\n",
       "        8.77295944e-14, 2.94133338e-06, 2.76466334e-08, 1.74622957e-13,\n",
       "        8.02947540e-08, 1.80645158e-12],\n",
       "       [1.65731296e-06, 9.98539329e-01, 2.61800596e-04, 8.23384107e-06,\n",
       "        3.21473926e-05, 1.63594796e-05, 1.85486115e-05, 7.26716768e-04,\n",
       "        3.91373644e-04, 3.96945870e-06],\n",
       "       [9.98494864e-01, 5.11848297e-09, 1.84083183e-04, 5.59297450e-06,\n",
       "        1.70087458e-06, 1.29959217e-05, 1.27447059e-03, 1.95566827e-06,\n",
       "        4.00836825e-06, 2.03084528e-05],\n",
       "       [1.69032483e-05, 1.48891566e-08, 1.66485206e-05, 1.06064658e-06,\n",
       "        9.94844317e-01, 5.46291744e-07, 2.86162867e-05, 3.25277651e-04,\n",
       "        1.04126575e-05, 4.75612050e-03]], dtype=float32)>"
      ]
     },
     "execution_count": 12,
     "metadata": {},
     "output_type": "execute_result"
    }
   ],
   "source": [
    "probability_model = tf.keras.Sequential([\n",
    "  model,\n",
    "  tf.keras.layers.Softmax()\n",
    "])\n",
    "\n",
    "probability_model(x_test[:5])\n"
   ]
  },
  {
   "cell_type": "code",
   "execution_count": null,
   "metadata": {},
   "outputs": [
    {
     "name": "stdout",
     "output_type": "stream",
     "text": [
      "Epoch 1/10\n",
      "1875/1875 [==============================] - 2s 1ms/step - loss: 0.2981 - accuracy: 0.9142 - val_loss: 0.1357 - val_accuracy: 0.9617\n",
      "Epoch 2/10\n",
      "1875/1875 [==============================] - 2s 966us/step - loss: 0.1465 - accuracy: 0.9567 - val_loss: 0.1023 - val_accuracy: 0.9691\n",
      "Epoch 3/10\n",
      "1875/1875 [==============================] - 2s 986us/step - loss: 0.1079 - accuracy: 0.9668 - val_loss: 0.0872 - val_accuracy: 0.9739\n",
      "Epoch 4/10\n",
      "1875/1875 [==============================] - 2s 992us/step - loss: 0.0889 - accuracy: 0.9723 - val_loss: 0.0802 - val_accuracy: 0.9750\n",
      "Epoch 5/10\n",
      "1875/1875 [==============================] - 2s 982us/step - loss: 0.0767 - accuracy: 0.9757 - val_loss: 0.0713 - val_accuracy: 0.9777\n",
      "Epoch 6/10\n",
      "1875/1875 [==============================] - 2s 984us/step - loss: 0.0663 - accuracy: 0.9790 - val_loss: 0.0725 - val_accuracy: 0.9780\n",
      "Epoch 7/10\n",
      "1875/1875 [==============================] - 2s 972us/step - loss: 0.0594 - accuracy: 0.9809 - val_loss: 0.0657 - val_accuracy: 0.9795\n",
      "Epoch 8/10\n",
      "1875/1875 [==============================] - 2s 996us/step - loss: 0.0537 - accuracy: 0.9823 - val_loss: 0.0664 - val_accuracy: 0.9807\n",
      "Epoch 9/10\n",
      "1875/1875 [==============================] - 2s 985us/step - loss: 0.0491 - accuracy: 0.9835 - val_loss: 0.0671 - val_accuracy: 0.9793\n",
      "Epoch 10/10\n",
      "1875/1875 [==============================] - 2s 971us/step - loss: 0.0453 - accuracy: 0.9847 - val_loss: 0.0675 - val_accuracy: 0.9788\n"
     ]
    },
    {
     "data": {
      "image/png": "[encoded data removed]",
      "text/plain": [
       "<Figure size 432x288 with 1 Axes>"
      ]
     },
     "metadata": {
      "needs_background": "light"
     },
     "output_type": "display_data"
    },
    {
     "data": {
      "image/png": "[encoded data removed]",
      "text/plain": [
       "<Figure size 432x288 with 1 Axes>"
      ]
     },
     "metadata": {
      "needs_background": "light"
     },
     "output_type": "display_data"
    }
   ],
   "source": [
    "import matplotlib.pyplot as plt\n",
    "\n",
    "# Train the model and store the history\n",
    "history = model.fit(x_train, y_train, epochs=10, validation_data=(x_test, y_test))\n",
    "\n",
    "# Extract the loss and accuracy values from the history object\n",
    "train_loss = history.history['loss']\n",
    "val_loss = history.history['val_loss']\n",
    "train_acc = history.history['accuracy']\n",
    "val_acc = history.history['val_accuracy']\n",
    "\n",
    "# Plot the loss values against the number of epochs\n",
    "plt.plot(train_loss, label='Training Loss')\n",
    "plt.plot(val_loss, label='Validation Loss')\n",
    "plt.xlabel('Epoch')\n",
    "plt.ylabel('Loss')\n",
    "plt.legend()\n",
    "plt.show()\n",
    "\n",
    "# Plot the accuracy values against the number of epochs\n",
    "plt.plot(train_acc, label='Training Accuracy')\n",
    "plt.plot(val_acc, label='Validation Accuracy')\n",
    "plt.xlabel('Epoch')\n",
    "plt.ylabel('Accuracy')\n",
    "plt.legend()\n",
    "plt.show()"
   ]
  }
 ],
 "metadata": {
  "kernelspec": {
   "display_name": "Python 3",
   "language": "python",
   "name": "python3"
  },
  "language_info": {
   "codemirror_mode": {
    "name": "ipython",
    "version": 3
   },
   "file_extension": ".py",
   "mimetype": "text/x-python",
   "name": "python",
   "nbconvert_exporter": "python",
   "pygments_lexer": "ipython3",
   "version": "3.9.7"
  },
  "orig_nbformat": 4
 },
 "nbformat": 4,
 "nbformat_minor": 2
}
