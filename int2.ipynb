{
 "cells": [
  {
   "cell_type": "code",
   "execution_count": 105,
   "metadata": {},
   "outputs": [],
   "source": [
    "import tensorflow as tf\n",
    "import tensorflow_datasets as tfds\n",
    "import tensorflow_addons as tfa\n",
    "import numpy as np\n",
    "import matplotlib.pyplot as plt\n",
    "from tensorflow import keras\n",
    "from keras import layers\n"
   ]
  },
  {
   "cell_type": "code",
   "execution_count": 106,
   "metadata": {},
   "outputs": [],
   "source": [
    "flowers = tfds.load(\"oxford_flowers102\")\n",
    "training = flowers[\"train\"]\n",
    "testing = flowers[\"test\"]\n",
    "validation = flowers[\"validation\"]\n",
    "tf.keras.mixed_precision.set_global_policy('mixed_float16')"
   ]
  },
  {
   "cell_type": "code",
   "execution_count": 107,
   "metadata": {},
   "outputs": [],
   "source": [
    "BATCH_SIZE  = 32\n",
    "LABEL_COUNT = 102\n",
    "INPUT_SHAPE = (224, 224)\n",
    "MODEL_INPUT_SHAPE = INPUT_SHAPE + (3,)\n",
    "EPOCHS = 30\n",
    "MAX_TIME = 2 * 60 * 60\n"
   ]
  },
  {
   "cell_type": "code",
   "execution_count": 108,
   "metadata": {},
   "outputs": [],
   "source": [
    "def format_image(item):\n",
    "  image = tf.image.resize(item[\"image\"], INPUT_SHAPE)\n",
    "  label = item[\"label\"]\n",
    "  return image, label"
   ]
  },
  {
   "cell_type": "code",
   "execution_count": 109,
   "metadata": {},
   "outputs": [],
   "source": [
    "training = training.map(format_image)\n",
    "testing = testing.map(format_image)\n",
    "validation = validation.map(format_image)\n",
    "\n",
    "training_batches = training.batch(BATCH_SIZE)\n",
    "testing_batches = testing.batch(BATCH_SIZE)\n",
    "validation_batches = validation.batch(BATCH_SIZE)"
   ]
  },
  {
   "cell_type": "code",
   "execution_count": 110,
   "metadata": {},
   "outputs": [],
   "source": [
    "model = keras.models.Sequential([\n",
    "  layers.Rescaling(1./255, input_shape=MODEL_INPUT_SHAPE),\n",
    "  layers.Conv2D(16, 3, padding='same', activation='relu'),\n",
    "  layers.MaxPooling2D(),\n",
    "  layers.Conv2D(32, 3, padding='same', activation='relu'),\n",
    "  layers.MaxPooling2D(),\n",
    "  layers.Conv2D(64, 3, padding='same', activation='relu'),\n",
    "  layers.MaxPooling2D(),\n",
    "  layers.Dropout(0.2),\n",
    "  layers.Flatten(),\n",
    "  layers.Dense(128, activation='relu'),\n",
    "  layers.Dropout(0.2),\n",
    "  layers.Dense(LABEL_COUNT)\n",
    "])\n"
   ]
  },
  {
   "cell_type": "code",
   "execution_count": 111,
   "metadata": {},
   "outputs": [],
   "source": [
    "loss_fn = tf.keras.losses.SparseCategoricalCrossentropy(from_logits=True)"
   ]
  },
  {
   "cell_type": "code",
   "execution_count": 112,
   "metadata": {},
   "outputs": [],
   "source": [
    "model.compile(optimizer='adam', \n",
    "              loss=loss_fn,\n",
    "              metrics=['accuracy'])"
   ]
  },
  {
   "cell_type": "code",
   "execution_count": 113,
   "metadata": {},
   "outputs": [
    {
     "name": "stdout",
     "output_type": "stream",
     "text": [
      "Epoch 1/5\n",
      "32/32 [==============================] - 767s 24s/step - loss: 4.6375 - accuracy: 0.0108 - val_loss: 4.5266 - val_accuracy: 0.0108\n",
      "Epoch 2/5\n",
      "32/32 [==============================] - 756s 24s/step - loss: 4.3949 - accuracy: 0.0363 - val_loss: 4.2657 - val_accuracy: 0.0412\n",
      "Epoch 3/5\n",
      "32/32 [==============================] - 747s 23s/step - loss: 3.7692 - accuracy: 0.1461 - val_loss: 4.0059 - val_accuracy: 0.1010\n",
      "Epoch 4/5\n",
      "32/32 [==============================] - 737s 23s/step - loss: 2.2017 - accuracy: 0.4588 - val_loss: 4.9626 - val_accuracy: 0.1108\n",
      "Epoch 5/5\n",
      "32/32 [==============================] - 741s 23s/step - loss: 1.0025 - accuracy: 0.7608 - val_loss: 5.6511 - val_accuracy: 0.1000\n"
     ]
    }
   ],
   "source": [
    "time_stopping_callback = tfa.callbacks.TimeStopping(seconds=MAX_TIME, verbose=1)\n",
    "\n",
    "history = model.fit(training_batches\n",
    "                    , epochs=EPOCHS, validation_data=validation_batches, callbacks=[time_stopping_callback])"
   ]
  },
  {
   "cell_type": "code",
   "execution_count": 99,
   "metadata": {},
   "outputs": [
    {
     "data": {
      "image/png": "[encoded data removed]",
      "text/plain": [
       "<Figure size 576x576 with 2 Axes>"
      ]
     },
     "metadata": {
      "needs_background": "light"
     },
     "output_type": "display_data"
    }
   ],
   "source": [
    "acc = history.history['accuracy']\n",
    "val_acc = history.history['val_accuracy']\n",
    "\n",
    "loss = history.history['loss']\n",
    "val_loss = history.history['val_loss']\n",
    "\n",
    "epochs_range = range(EPOCHS)\n",
    "\n",
    "plt.figure(figsize=(8, 8))\n",
    "plt.subplot(1, 2, 1)\n",
    "plt.plot(epochs_range, acc, label='Training Accuracy')\n",
    "plt.plot(epochs_range, val_acc, label='Validation Accuracy')\n",
    "plt.legend(loc='lower right')\n",
    "plt.title('Training and Validation Accuracy')\n",
    "\n",
    "plt.subplot(1, 2, 2)\n",
    "plt.plot(epochs_range, loss, label='Training Loss')\n",
    "plt.plot(epochs_range, val_loss, label='Validation Loss')\n",
    "plt.legend(loc='upper right')\n",
    "plt.title('Training and Validation Loss')\n",
    "plt.show()"
   ]
  },
  {
   "cell_type": "code",
   "execution_count": 114,
   "metadata": {},
   "outputs": [
    {
     "name": "stdout",
     "output_type": "stream",
     "text": [
      "193/193 [==============================] - 181s 936ms/step - loss: 5.9722 - accuracy: 0.0784\n"
     ]
    },
    {
     "data": {
      "text/plain": [
       "[5.972168445587158, 0.07838673144578934]"
      ]
     },
     "execution_count": 114,
     "metadata": {},
     "output_type": "execute_result"
    }
   ],
   "source": [
    "model.evaluate(testing_batches, verbose = True)"
   ]
  }
 ],
 "metadata": {
  "kernelspec": {
   "display_name": "Python 3",
   "language": "python",
   "name": "python3"
  },
  "language_info": {
   "codemirror_mode": {
    "name": "ipython",
    "version": 3
   },
   "file_extension": ".py",
   "mimetype": "text/x-python",
   "name": "python",
   "nbconvert_exporter": "python",
   "pygments_lexer": "ipython3",
   "version": "3.9.7"
  },
  "orig_nbformat": 4
 },
 "nbformat": 4,
 "nbformat_minor": 2
}
