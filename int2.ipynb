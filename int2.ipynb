{
 "cells": [
  {
   "attachments": {},
   "cell_type": "markdown",
   "metadata": {},
   "source": [
    "Import data"
   ]
  },
  {
   "cell_type": "code",
   "execution_count": 1,
   "metadata": {},
   "outputs": [],
   "source": [
    "import tensorflow as tf\n",
    "import tensorflow_datasets as tfds\n",
    "import numpy as np"
   ]
  },
  {
   "attachments": {},
   "cell_type": "markdown",
   "metadata": {},
   "source": [
    "Load data and break it into labels and images for testing, training and verification"
   ]
  },
  {
   "cell_type": "code",
   "execution_count": 10,
   "metadata": {},
   "outputs": [
    {
     "name": "stdout",
     "output_type": "stream",
     "text": [
      "[[[0.00392157 0.00784314 0.        ]\n",
      "  [0.00392157 0.00784314 0.        ]\n",
      "  [0.00392157 0.00784314 0.        ]\n",
      "  ...\n",
      "  [0.00392157 0.00392157 0.00392157]\n",
      "  [0.00392157 0.00392157 0.00392157]\n",
      "  [0.00392157 0.00392157 0.00392157]]\n",
      "\n",
      " [[0.00392157 0.00784314 0.        ]\n",
      "  [0.00392157 0.00784314 0.        ]\n",
      "  [0.00392157 0.00784314 0.        ]\n",
      "  ...\n",
      "  [0.00392157 0.00392157 0.00392157]\n",
      "  [0.00392157 0.00392157 0.00392157]\n",
      "  [0.00392157 0.00392157 0.00392157]]\n",
      "\n",
      " [[0.00392157 0.00784314 0.        ]\n",
      "  [0.00392157 0.00784314 0.        ]\n",
      "  [0.00392157 0.00784314 0.        ]\n",
      "  ...\n",
      "  [0.00392157 0.00392157 0.00392157]\n",
      "  [0.00392157 0.00392157 0.00392157]\n",
      "  [0.00392157 0.00392157 0.00392157]]\n",
      "\n",
      " ...\n",
      "\n",
      " [[0.00392157 0.00392157 0.00392157]\n",
      "  [0.00392157 0.00392157 0.00392157]\n",
      "  [0.00392157 0.00392157 0.00392157]\n",
      "  ...\n",
      "  [0.02352941 0.02745098 0.00784314]\n",
      "  [0.02352941 0.02745098 0.00784314]\n",
      "  [0.01960784 0.02352941 0.00392157]]\n",
      "\n",
      " [[0.00392157 0.00392157 0.00392157]\n",
      "  [0.00392157 0.00392157 0.00392157]\n",
      "  [0.00392157 0.00392157 0.00392157]\n",
      "  ...\n",
      "  [0.02352941 0.02745098 0.00784314]\n",
      "  [0.02352941 0.02745098 0.00784314]\n",
      "  [0.01960784 0.02352941 0.00392157]]\n",
      "\n",
      " [[0.00392157 0.00392157 0.00392157]\n",
      "  [0.00392157 0.00392157 0.00392157]\n",
      "  [0.00392157 0.00392157 0.00392157]\n",
      "  ...\n",
      "  [0.02352941 0.02745098 0.00784314]\n",
      "  [0.02352941 0.02745098 0.00784314]\n",
      "  [0.01960784 0.02352941 0.00392157]]]\n"
     ]
    }
   ],
   "source": [
    "flowers = tfds.load(\"oxford_flowers102\")\n",
    "training = flowers[\"train\"]\n",
    "\n",
    "training_images = []\n",
    "training_labels = []\n",
    "\n",
    "for item in training:\n",
    "    training_images.append(item[\"image\"].numpy()/255.0)\n",
    "    training_labels.append(item[\"label\"].numpy()/255.0)\n",
    "\n",
    "print(training_images[0])"
   ]
  },
  {
   "cell_type": "code",
   "execution_count": 11,
   "metadata": {},
   "outputs": [
    {
     "ename": "MemoryError",
     "evalue": "Unable to allocate 7.63 MiB for an array with shape (500, 667, 3) and data type float64",
     "output_type": "error",
     "traceback": [
      "\u001b[1;31m---------------------------------------------------------------------------\u001b[0m",
      "\u001b[1;31mMemoryError\u001b[0m                               Traceback (most recent call last)",
      "\u001b[1;32mc:\\Users\\connc\\VSCode\\Python\\Year 2\\INT2\\tensorflow\\int2.ipynb Cell 5\u001b[0m in \u001b[0;36m<module>\u001b[1;34m\u001b[0m\n\u001b[0;32m      <a href='vscode-notebook-cell:/c%3A/Users/connc/VSCode/Python/Year%202/INT2/tensorflow/int2.ipynb#W4sZmlsZQ%3D%3D?line=3'>4</a>\u001b[0m testing_labels \u001b[39m=\u001b[39m []\n\u001b[0;32m      <a href='vscode-notebook-cell:/c%3A/Users/connc/VSCode/Python/Year%202/INT2/tensorflow/int2.ipynb#W4sZmlsZQ%3D%3D?line=5'>6</a>\u001b[0m \u001b[39mfor\u001b[39;00m item \u001b[39min\u001b[39;00m testing:\n\u001b[1;32m----> <a href='vscode-notebook-cell:/c%3A/Users/connc/VSCode/Python/Year%202/INT2/tensorflow/int2.ipynb#W4sZmlsZQ%3D%3D?line=6'>7</a>\u001b[0m     testing_images\u001b[39m.\u001b[39mappend(item[\u001b[39m\"\u001b[39;49m\u001b[39mimage\u001b[39;49m\u001b[39m\"\u001b[39;49m]\u001b[39m.\u001b[39;49mnumpy()\u001b[39m/\u001b[39;49m\u001b[39m255.0\u001b[39;49m)\n\u001b[0;32m      <a href='vscode-notebook-cell:/c%3A/Users/connc/VSCode/Python/Year%202/INT2/tensorflow/int2.ipynb#W4sZmlsZQ%3D%3D?line=7'>8</a>\u001b[0m     testing_labels\u001b[39m.\u001b[39mappend(item[\u001b[39m\"\u001b[39m\u001b[39mlabel\u001b[39m\u001b[39m\"\u001b[39m]\u001b[39m.\u001b[39mnumpy()\u001b[39m/\u001b[39m\u001b[39m255.0\u001b[39m)\n\u001b[0;32m     <a href='vscode-notebook-cell:/c%3A/Users/connc/VSCode/Python/Year%202/INT2/tensorflow/int2.ipynb#W4sZmlsZQ%3D%3D?line=9'>10</a>\u001b[0m \u001b[39mprint\u001b[39m(testing_labels[\u001b[39m0\u001b[39m])\n",
      "\u001b[1;31mMemoryError\u001b[0m: Unable to allocate 7.63 MiB for an array with shape (500, 667, 3) and data type float64"
     ]
    }
   ],
   "source": [
    "testing = flowers[\"test\"]\n",
    "\n",
    "testing_images = []\n",
    "testing_labels = []\n",
    "\n",
    "for item in testing:\n",
    "    testing_images.append(item[\"image\"].numpy()/255.0)\n",
    "    testing_labels.append(item[\"label\"].numpy()/255.0)\n",
    "\n",
    "print(testing_labels[0])"
   ]
  },
  {
   "cell_type": "code",
   "execution_count": null,
   "metadata": {},
   "outputs": [
    {
     "name": "stderr",
     "output_type": "stream",
     "text": [
      "C:\\Users\\connc\\AppData\\Local\\Temp\\ipykernel_22556\\1685638850.py:2: VisibleDeprecationWarning: Creating an ndarray from ragged nested sequences (which is a list-or-tuple of lists-or-tuples-or ndarrays with different lengths or shapes) is deprecated. If you meant to do this, you must specify 'dtype=object' when creating the ndarray.\n",
      "  validation_images = np.array([item[\"image\"].numpy() for item in validation])\n"
     ]
    },
    {
     "name": "stdout",
     "output_type": "stream",
     "text": [
      "88\n"
     ]
    }
   ],
   "source": [
    "validation = flowers[\"validation\"]\n",
    "validation_images = np.array([item[\"image\"].numpy()/255.0 for item in validation])\n",
    "validation_labels = np.array([item[\"label\"] for item in validation])\n",
    "print(validation_labels[0])"
   ]
  },
  {
   "attachments": {},
   "cell_type": "markdown",
   "metadata": {},
   "source": [
    "For all the image arrays, reshape them and divide them by 255"
   ]
  },
  {
   "cell_type": "code",
   "execution_count": null,
   "metadata": {},
   "outputs": [
    {
     "ename": "MemoryError",
     "evalue": "Unable to allocate 9.12 MiB for an array with shape (1196032,) and data type float64",
     "output_type": "error",
     "traceback": [
      "\u001b[1;31m---------------------------------------------------------------------------\u001b[0m",
      "\u001b[1;31mMemoryError\u001b[0m                               Traceback (most recent call last)",
      "\u001b[1;32mc:\\Users\\connc\\VSCode\\Python\\Year 2\\INT2\\tensorflow\\int2.ipynb Cell 8\u001b[0m in \u001b[0;36m<module>\u001b[1;34m\u001b[0m\n\u001b[1;32m----> <a href='vscode-notebook-cell:/c%3A/Users/connc/VSCode/Python/Year%202/INT2/tensorflow/int2.ipynb#W4sZmlsZQ%3D%3D?line=0'>1</a>\u001b[0m training_images \u001b[39m=\u001b[39m [np\u001b[39m.\u001b[39mresize(image\u001b[39m/\u001b[39m\u001b[39m255.0\u001b[39m,\u001b[39m1196032\u001b[39m) \u001b[39mfor\u001b[39;00m image \u001b[39min\u001b[39;00m training_images]\n\u001b[0;32m      <a href='vscode-notebook-cell:/c%3A/Users/connc/VSCode/Python/Year%202/INT2/tensorflow/int2.ipynb#W4sZmlsZQ%3D%3D?line=1'>2</a>\u001b[0m \u001b[39mprint\u001b[39m(training_images[\u001b[39m0\u001b[39m])\n",
      "\u001b[1;32mc:\\Users\\connc\\VSCode\\Python\\Year 2\\INT2\\tensorflow\\int2.ipynb Cell 8\u001b[0m in \u001b[0;36m<listcomp>\u001b[1;34m(.0)\u001b[0m\n\u001b[1;32m----> <a href='vscode-notebook-cell:/c%3A/Users/connc/VSCode/Python/Year%202/INT2/tensorflow/int2.ipynb#W4sZmlsZQ%3D%3D?line=0'>1</a>\u001b[0m training_images \u001b[39m=\u001b[39m [np\u001b[39m.\u001b[39;49mresize(image\u001b[39m/\u001b[39;49m\u001b[39m255.0\u001b[39;49m,\u001b[39m1196032\u001b[39;49m) \u001b[39mfor\u001b[39;00m image \u001b[39min\u001b[39;00m training_images]\n\u001b[0;32m      <a href='vscode-notebook-cell:/c%3A/Users/connc/VSCode/Python/Year%202/INT2/tensorflow/int2.ipynb#W4sZmlsZQ%3D%3D?line=1'>2</a>\u001b[0m \u001b[39mprint\u001b[39m(training_images[\u001b[39m0\u001b[39m])\n",
      "File \u001b[1;32m<__array_function__ internals>:180\u001b[0m, in \u001b[0;36mresize\u001b[1;34m(*args, **kwargs)\u001b[0m\n",
      "File \u001b[1;32mc:\\Users\\connc\\AppData\\Local\\Programs\\Python\\Python39\\lib\\site-packages\\numpy\\core\\fromnumeric.py:1469\u001b[0m, in \u001b[0;36mresize\u001b[1;34m(a, new_shape)\u001b[0m\n\u001b[0;32m   1466\u001b[0m     \u001b[39mreturn\u001b[39;00m np\u001b[39m.\u001b[39mzeros_like(a, shape\u001b[39m=\u001b[39mnew_shape)\n\u001b[0;32m   1468\u001b[0m repeats \u001b[39m=\u001b[39m \u001b[39m-\u001b[39m(\u001b[39m-\u001b[39mnew_size \u001b[39m/\u001b[39m\u001b[39m/\u001b[39m a\u001b[39m.\u001b[39msize)  \u001b[39m# ceil division\u001b[39;00m\n\u001b[1;32m-> 1469\u001b[0m a \u001b[39m=\u001b[39m concatenate((a,) \u001b[39m*\u001b[39;49m repeats)[:new_size]\n\u001b[0;32m   1471\u001b[0m \u001b[39mreturn\u001b[39;00m reshape(a, new_shape)\n",
      "File \u001b[1;32m<__array_function__ internals>:180\u001b[0m, in \u001b[0;36mconcatenate\u001b[1;34m(*args, **kwargs)\u001b[0m\n",
      "\u001b[1;31mMemoryError\u001b[0m: Unable to allocate 9.12 MiB for an array with shape (1196032,) and data type float64"
     ]
    }
   ],
   "source": [
    "#training_images = [np.resize(image/255.0,1196032) for image in training_images]\n",
    "print(training_images[0])"
   ]
  },
  {
   "cell_type": "code",
   "execution_count": null,
   "metadata": {},
   "outputs": [
    {
     "ename": "MemoryError",
     "evalue": "Unable to allocate 15.3 MiB for an array with shape (2001000,) and data type float64",
     "output_type": "error",
     "traceback": [
      "\u001b[1;31m---------------------------------------------------------------------------\u001b[0m",
      "\u001b[1;31mMemoryError\u001b[0m                               Traceback (most recent call last)",
      "\u001b[1;32mc:\\Users\\connc\\VSCode\\Python\\Year 2\\INT2\\tensorflow\\int2.ipynb Cell 9\u001b[0m in \u001b[0;36m<module>\u001b[1;34m\u001b[0m\n\u001b[1;32m----> <a href='vscode-notebook-cell:/c%3A/Users/connc/VSCode/Python/Year%202/INT2/tensorflow/int2.ipynb#X22sZmlsZQ%3D%3D?line=0'>1</a>\u001b[0m testing_images \u001b[39m=\u001b[39m [np\u001b[39m.\u001b[39mresize(image\u001b[39m/\u001b[39m\u001b[39m255.0\u001b[39m,\u001b[39m1196032\u001b[39m) \u001b[39mfor\u001b[39;00m image \u001b[39min\u001b[39;00m testing_images]\n\u001b[0;32m      <a href='vscode-notebook-cell:/c%3A/Users/connc/VSCode/Python/Year%202/INT2/tensorflow/int2.ipynb#X22sZmlsZQ%3D%3D?line=1'>2</a>\u001b[0m \u001b[39mprint\u001b[39m(testing_images[\u001b[39m0\u001b[39m])\n",
      "\u001b[1;32mc:\\Users\\connc\\VSCode\\Python\\Year 2\\INT2\\tensorflow\\int2.ipynb Cell 9\u001b[0m in \u001b[0;36m<listcomp>\u001b[1;34m(.0)\u001b[0m\n\u001b[1;32m----> <a href='vscode-notebook-cell:/c%3A/Users/connc/VSCode/Python/Year%202/INT2/tensorflow/int2.ipynb#X22sZmlsZQ%3D%3D?line=0'>1</a>\u001b[0m testing_images \u001b[39m=\u001b[39m [np\u001b[39m.\u001b[39;49mresize(image\u001b[39m/\u001b[39;49m\u001b[39m255.0\u001b[39;49m,\u001b[39m1196032\u001b[39;49m) \u001b[39mfor\u001b[39;00m image \u001b[39min\u001b[39;00m testing_images]\n\u001b[0;32m      <a href='vscode-notebook-cell:/c%3A/Users/connc/VSCode/Python/Year%202/INT2/tensorflow/int2.ipynb#X22sZmlsZQ%3D%3D?line=1'>2</a>\u001b[0m \u001b[39mprint\u001b[39m(testing_images[\u001b[39m0\u001b[39m])\n",
      "File \u001b[1;32m<__array_function__ internals>:180\u001b[0m, in \u001b[0;36mresize\u001b[1;34m(*args, **kwargs)\u001b[0m\n",
      "File \u001b[1;32mc:\\Users\\connc\\AppData\\Local\\Programs\\Python\\Python39\\lib\\site-packages\\numpy\\core\\fromnumeric.py:1469\u001b[0m, in \u001b[0;36mresize\u001b[1;34m(a, new_shape)\u001b[0m\n\u001b[0;32m   1466\u001b[0m     \u001b[39mreturn\u001b[39;00m np\u001b[39m.\u001b[39mzeros_like(a, shape\u001b[39m=\u001b[39mnew_shape)\n\u001b[0;32m   1468\u001b[0m repeats \u001b[39m=\u001b[39m \u001b[39m-\u001b[39m(\u001b[39m-\u001b[39mnew_size \u001b[39m/\u001b[39m\u001b[39m/\u001b[39m a\u001b[39m.\u001b[39msize)  \u001b[39m# ceil division\u001b[39;00m\n\u001b[1;32m-> 1469\u001b[0m a \u001b[39m=\u001b[39m concatenate((a,) \u001b[39m*\u001b[39;49m repeats)[:new_size]\n\u001b[0;32m   1471\u001b[0m \u001b[39mreturn\u001b[39;00m reshape(a, new_shape)\n",
      "File \u001b[1;32m<__array_function__ internals>:180\u001b[0m, in \u001b[0;36mconcatenate\u001b[1;34m(*args, **kwargs)\u001b[0m\n",
      "\u001b[1;31mMemoryError\u001b[0m: Unable to allocate 15.3 MiB for an array with shape (2001000,) and data type float64"
     ]
    }
   ],
   "source": [
    "#testing_images = [np.resize(image/255.0,1196032) for image in testing_images]\n",
    "print(testing_images[0])"
   ]
  },
  {
   "cell_type": "code",
   "execution_count": null,
   "metadata": {},
   "outputs": [],
   "source": [
    "#validation_images = [np.resize(image/255.0,1196032) for image in validation_images]\n",
    "print(validation_images[0])"
   ]
  },
  {
   "attachments": {},
   "cell_type": "markdown",
   "metadata": {},
   "source": [
    "Create Network Model"
   ]
  },
  {
   "cell_type": "code",
   "execution_count": null,
   "metadata": {},
   "outputs": [
    {
     "ename": "TypeError",
     "evalue": "int() argument must be a string, a bytes-like object or a number, not 'builtin_function_or_method'",
     "output_type": "error",
     "traceback": [
      "\u001b[1;31m---------------------------------------------------------------------------\u001b[0m",
      "\u001b[1;31mTypeError\u001b[0m                                 Traceback (most recent call last)",
      "\u001b[1;32mc:\\Users\\connc\\VSCode\\Python\\Year 2\\INT2\\tensorflow\\int2.ipynb Cell 12\u001b[0m in \u001b[0;36m<module>\u001b[1;34m\u001b[0m\n\u001b[0;32m      <a href='vscode-notebook-cell:/c%3A/Users/connc/VSCode/Python/Year%202/INT2/tensorflow/int2.ipynb#X15sZmlsZQ%3D%3D?line=0'>1</a>\u001b[0m model \u001b[39m=\u001b[39m tf\u001b[39m.\u001b[39mkeras\u001b[39m.\u001b[39mmodels\u001b[39m.\u001b[39mSequential([ \n\u001b[0;32m      <a href='vscode-notebook-cell:/c%3A/Users/connc/VSCode/Python/Year%202/INT2/tensorflow/int2.ipynb#X15sZmlsZQ%3D%3D?line=1'>2</a>\u001b[0m   tf\u001b[39m.\u001b[39mkeras\u001b[39m.\u001b[39mlayers\u001b[39m.\u001b[39mInputLayer(input_shape\u001b[39m=\u001b[39m\u001b[39m1196032\u001b[39m, dtype\u001b[39m=\u001b[39m\u001b[39mfloat\u001b[39m), \n\u001b[0;32m      <a href='vscode-notebook-cell:/c%3A/Users/connc/VSCode/Python/Year%202/INT2/tensorflow/int2.ipynb#X15sZmlsZQ%3D%3D?line=2'>3</a>\u001b[0m   tf\u001b[39m.\u001b[39mkeras\u001b[39m.\u001b[39mlayers\u001b[39m.\u001b[39mDense(\u001b[39m128\u001b[39m, activation\u001b[39m=\u001b[39m\u001b[39m'\u001b[39m\u001b[39mrelu\u001b[39m\u001b[39m'\u001b[39m), \n\u001b[0;32m      <a href='vscode-notebook-cell:/c%3A/Users/connc/VSCode/Python/Year%202/INT2/tensorflow/int2.ipynb#X15sZmlsZQ%3D%3D?line=3'>4</a>\u001b[0m   tf\u001b[39m.\u001b[39mkeras\u001b[39m.\u001b[39mlayers\u001b[39m.\u001b[39mDropout(\u001b[39m0.2\u001b[39m),\n\u001b[1;32m----> <a href='vscode-notebook-cell:/c%3A/Users/connc/VSCode/Python/Year%202/INT2/tensorflow/int2.ipynb#X15sZmlsZQ%3D%3D?line=4'>5</a>\u001b[0m   tf\u001b[39m.\u001b[39;49mkeras\u001b[39m.\u001b[39;49mlayers\u001b[39m.\u001b[39;49mDense(testing_labels\u001b[39m.\u001b[39;49mmax) \n\u001b[0;32m      <a href='vscode-notebook-cell:/c%3A/Users/connc/VSCode/Python/Year%202/INT2/tensorflow/int2.ipynb#X15sZmlsZQ%3D%3D?line=5'>6</a>\u001b[0m ])\n",
      "File \u001b[1;32mc:\\Users\\connc\\AppData\\Local\\Programs\\Python\\Python39\\lib\\site-packages\\keras\\dtensor\\utils.py:96\u001b[0m, in \u001b[0;36mallow_initializer_layout.<locals>._wrap_function\u001b[1;34m(layer_instance, *args, **kwargs)\u001b[0m\n\u001b[0;32m     93\u001b[0m         \u001b[39mif\u001b[39;00m layout:\n\u001b[0;32m     94\u001b[0m             layout_args[variable_name \u001b[39m+\u001b[39m \u001b[39m\"\u001b[39m\u001b[39m_layout\u001b[39m\u001b[39m\"\u001b[39m] \u001b[39m=\u001b[39m layout\n\u001b[1;32m---> 96\u001b[0m init_method(layer_instance, \u001b[39m*\u001b[39margs, \u001b[39m*\u001b[39m\u001b[39m*\u001b[39mkwargs)\n\u001b[0;32m     98\u001b[0m \u001b[39m# Inject the layout parameter after the invocation of __init__()\u001b[39;00m\n\u001b[0;32m     99\u001b[0m \u001b[39mfor\u001b[39;00m layout_param_name, layout \u001b[39min\u001b[39;00m layout_args\u001b[39m.\u001b[39mitems():\n",
      "File \u001b[1;32mc:\\Users\\connc\\AppData\\Local\\Programs\\Python\\Python39\\lib\\site-packages\\keras\\layers\\core\\dense.py:119\u001b[0m, in \u001b[0;36mDense.__init__\u001b[1;34m(self, units, activation, use_bias, kernel_initializer, bias_initializer, kernel_regularizer, bias_regularizer, activity_regularizer, kernel_constraint, bias_constraint, **kwargs)\u001b[0m\n\u001b[0;32m    102\u001b[0m \u001b[39m@utils\u001b[39m\u001b[39m.\u001b[39mallow_initializer_layout\n\u001b[0;32m    103\u001b[0m \u001b[39mdef\u001b[39;00m \u001b[39m__init__\u001b[39m(\n\u001b[0;32m    104\u001b[0m     \u001b[39mself\u001b[39m,\n\u001b[1;32m   (...)\u001b[0m\n\u001b[0;32m    115\u001b[0m     \u001b[39m*\u001b[39m\u001b[39m*\u001b[39mkwargs,\n\u001b[0;32m    116\u001b[0m ):\n\u001b[0;32m    117\u001b[0m     \u001b[39msuper\u001b[39m()\u001b[39m.\u001b[39m\u001b[39m__init__\u001b[39m(activity_regularizer\u001b[39m=\u001b[39mactivity_regularizer, \u001b[39m*\u001b[39m\u001b[39m*\u001b[39mkwargs)\n\u001b[1;32m--> 119\u001b[0m     \u001b[39mself\u001b[39m\u001b[39m.\u001b[39munits \u001b[39m=\u001b[39m \u001b[39mint\u001b[39;49m(units) \u001b[39mif\u001b[39;00m \u001b[39mnot\u001b[39;00m \u001b[39misinstance\u001b[39m(units, \u001b[39mint\u001b[39m) \u001b[39melse\u001b[39;00m units\n\u001b[0;32m    120\u001b[0m     \u001b[39mif\u001b[39;00m \u001b[39mself\u001b[39m\u001b[39m.\u001b[39munits \u001b[39m<\u001b[39m \u001b[39m0\u001b[39m:\n\u001b[0;32m    121\u001b[0m         \u001b[39mraise\u001b[39;00m \u001b[39mValueError\u001b[39;00m(\n\u001b[0;32m    122\u001b[0m             \u001b[39m\"\u001b[39m\u001b[39mReceived an invalid value for `units`, expected \u001b[39m\u001b[39m\"\u001b[39m\n\u001b[0;32m    123\u001b[0m             \u001b[39mf\u001b[39m\u001b[39m\"\u001b[39m\u001b[39ma positive integer. Received: units=\u001b[39m\u001b[39m{\u001b[39;00munits\u001b[39m}\u001b[39;00m\u001b[39m\"\u001b[39m\n\u001b[0;32m    124\u001b[0m         )\n",
      "\u001b[1;31mTypeError\u001b[0m: int() argument must be a string, a bytes-like object or a number, not 'builtin_function_or_method'"
     ]
    }
   ],
   "source": [
    "model = tf.keras.models.Sequential([ \n",
    "  tf.keras.layers.InputLayer(input_shape=1196032, dtype=float), \n",
    "  tf.keras.layers.Dense(128, activation='relu'), \n",
    "  tf.keras.layers.Dropout(0.2),\n",
    "  tf.keras.layers.Dense(testing_labels.max) \n",
    "])"
   ]
  },
  {
   "attachments": {},
   "cell_type": "markdown",
   "metadata": {},
   "source": [
    "Train Model"
   ]
  },
  {
   "cell_type": "code",
   "execution_count": null,
   "metadata": {},
   "outputs": [],
   "source": []
  },
  {
   "attachments": {},
   "cell_type": "markdown",
   "metadata": {},
   "source": [
    "Test Model"
   ]
  },
  {
   "cell_type": "code",
   "execution_count": null,
   "metadata": {},
   "outputs": [],
   "source": []
  }
 ],
 "metadata": {
  "kernelspec": {
   "display_name": "Python 3",
   "language": "python",
   "name": "python3"
  },
  "language_info": {
   "codemirror_mode": {
    "name": "ipython",
    "version": 3
   },
   "file_extension": ".py",
   "mimetype": "text/x-python",
   "name": "python",
   "nbconvert_exporter": "python",
   "pygments_lexer": "ipython3",
   "version": "3.9.7"
  },
  "orig_nbformat": 4
 },
 "nbformat": 4,
 "nbformat_minor": 2
}
